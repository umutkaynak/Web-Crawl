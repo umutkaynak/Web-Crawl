{
 "cells": [
  {
   "cell_type": "code",
   "execution_count": 1,
   "metadata": {},
   "outputs": [],
   "source": [
    "from bs4 import BeautifulSoup\n",
    "import requests\n",
    "import pandas as pd\n",
    "import random\n",
    "from time import sleep"
   ]
  },
  {
   "cell_type": "code",
   "execution_count": 2,
   "metadata": {},
   "outputs": [],
   "source": [
    "headers=\"Mozilla/5.0 (Windows NT 10.0; Win64; x64) AppleWebKit/537.36 (KHTML, like Gecko) Chrome/112.0.0.0 Safari/537.36\"\n"
   ]
  },
  {
   "cell_type": "code",
   "execution_count": 3,
   "metadata": {},
   "outputs": [],
   "source": [
    "url=[]\n",
    "sözlük={}\n",
    "excel=[]\n",
    "veri=0"
   ]
  },
  {
   "cell_type": "code",
   "execution_count": 4,
   "metadata": {},
   "outputs": [],
   "source": [
    "\n",
    "oku=pd.read_excel(\"link.xlsx\")\n",
    "for i in oku.index:\n",
    "    for j in oku.columns:\n",
    "        url.append(oku.at[i,j])\n"
   ]
  },
  {
   "cell_type": "code",
   "execution_count": 5,
   "metadata": {},
   "outputs": [
    {
     "name": "stdout",
     "output_type": "stream",
     "text": [
      "403\n"
     ]
    },
    {
     "ename": "AttributeError",
     "evalue": "'NoneType' object has no attribute 'parent'",
     "output_type": "error",
     "traceback": [
      "\u001b[1;31m---------------------------------------------------------------------------\u001b[0m",
      "\u001b[1;31mAttributeError\u001b[0m                            Traceback (most recent call last)",
      "Cell \u001b[1;32mIn[5], line 6\u001b[0m\n\u001b[0;32m      4\u001b[0m soup\u001b[39m=\u001b[39mBeautifulSoup(r\u001b[39m.\u001b[39mcontent,\u001b[39m\"\u001b[39m\u001b[39mhtml.parser\u001b[39m\u001b[39m\"\u001b[39m)\n\u001b[0;32m      5\u001b[0m \u001b[39mprint\u001b[39m(r\u001b[39m.\u001b[39mstatus_code)\n\u001b[1;32m----> 6\u001b[0m urun_ozellikleri \u001b[39m=\u001b[39m soup\u001b[39m.\u001b[39;49mfind(\u001b[39m\"\u001b[39;49m\u001b[39ma\u001b[39;49m\u001b[39m\"\u001b[39;49m,{\u001b[39m\"\u001b[39;49m\u001b[39mname\u001b[39;49m\u001b[39m\"\u001b[39;49m:\u001b[39m\"\u001b[39;49m\u001b[39murun-ozellikleri\u001b[39;49m\u001b[39m\"\u001b[39;49m})\u001b[39m.\u001b[39;49mparent\u001b[39m.\u001b[39mparent\n\u001b[0;32m      7\u001b[0m ozellikler_row \u001b[39m=\u001b[39m urun_ozellikleri\u001b[39m.\u001b[39mfind_all(\u001b[39m\"\u001b[39m\u001b[39mtr\u001b[39m\u001b[39m\"\u001b[39m)\n\u001b[0;32m      9\u001b[0m \u001b[39mfor\u001b[39;00m i \u001b[39min\u001b[39;00m ozellikler_row:\n",
      "\u001b[1;31mAttributeError\u001b[0m: 'NoneType' object has no attribute 'parent'"
     ]
    }
   ],
   "source": [
    "while veri<30:\n",
    "    link1=url[veri]\n",
    "    r=requests.get(link1)\n",
    "    soup=BeautifulSoup(r.content,\"html.parser\")\n",
    "    print(r.status_code)\n",
    "    urun_ozellikleri = soup.find(\"a\",{\"name\":\"urun-ozellikleri\"}).parent.parent\n",
    "    ozellikler_row = urun_ozellikleri.find_all(\"tr\")\n",
    "\n",
    "    for i in ozellikler_row:\n",
    "            tds = i.find_all(\"td\")\n",
    "            attrs=tds[1].text\n",
    "            attrs=attrs.replace(\": \\xa0 \",\"\")\n",
    "            kategori=tds[0].text\n",
    "\n",
    "            sözlük[kategori]=attrs\n",
    "    \n",
    "    \n",
    "    Model=soup.find(\"div\",attrs={\"class\":\"pdt_v8\"})\n",
    "    urunModeli=Model.find(\"h1\").text\n",
    "\n",
    "    marka=urunModeli.split()[0]\n",
    "    model=urunModeli.split()[1:]\n",
    "    model1=\"\"\n",
    "    for i in model:\n",
    "        model1=model1+\" \"+i\n",
    "\n",
    "    try:\n",
    "        cihaz=sözlük[\"Cihaz Tipi\"]\n",
    "    except:\n",
    "        cihaz=\"null\"\n",
    "    try:      \n",
    "        tasarım=sözlük[\"Tasarım\"]\n",
    "    except:\n",
    "        tasarım=\"null\"\n",
    "\n",
    "    try:\n",
    "        yuzey=sözlük[\"Yüzey Tipi\"]\n",
    "    except:\n",
    "        yuzey=\"null\"\n",
    "\n",
    "    try:\n",
    "        genislik=sözlük[\"Genişlik\"]\n",
    "    except:\n",
    "        genislik=\"null\"\n",
    "    try:\n",
    "        panel=sözlük[\"Kontrol Paneli\"]\n",
    "    except:\n",
    "        panel=\"null\"\n",
    "    try:\n",
    "        maxEmis=sözlük[\"Maximum Emiş Gücü\"]\n",
    "    except:\n",
    "        maxEmis=\"null\"\n",
    "    try:\n",
    "        dB=sözlük[\"Ses Seviyesi\"]\n",
    "    except:\n",
    "        dB=\"null\"\n",
    "    try:\n",
    "        kademe=sözlük[\"Kademe\"]\n",
    "    except:\n",
    "        kademe=\"null\"\n",
    "    try:\n",
    "        enerjiSınıfı=sözlük[\"Enerji Sınıfı\"]\n",
    "    except:\n",
    "        enerjiSınıfı=\"null\"\n",
    "    try:\n",
    "        aydınlatmalı=sözlük[\"Aydınlatmalı\"]\n",
    "    except:\n",
    "        aydınlatmalı=\"null\"\n",
    "    try:\n",
    "        lambaSay=sözlük[\"Lamba Sayısı\"]\n",
    "    except:\n",
    "        lambaSay=\"null\"\n",
    "    try:\n",
    "        lambaGuc=sözlük[\"Lamba Gücü\"]\n",
    "    except:\n",
    "        lambaGuc=\"null\"\n",
    "    try:\n",
    "        filtreMalz=sözlük[\"Filtre Malzemesi\"]\n",
    "    except:\n",
    "        filtreMalz=\"null\"\n",
    "    try:\n",
    "        yikananFiltre=sözlük[\"Yıkanabilir Filtre\"]\n",
    "    except:\n",
    "        yikananFiltre=\"null\"\n",
    "    try:\n",
    "        Derinlik=sözlük[\"Derinlik\"]\n",
    "    except:\n",
    "        Derinlik=\"null\"\n",
    "    try:\n",
    "        yukseklik=sözlük[\"Yükseklik\"]\n",
    "    except:\n",
    "        yukseklik=\"null\"\n",
    "    try:\n",
    "        guc=sözlük[\"Güç\"]\n",
    "    except:\n",
    "        guc=\"null\"\n",
    "    try:\n",
    "        renk=sözlük[\"Renk\"]\n",
    "    except:\n",
    "        renk=\"null\"\n",
    "        \n",
    "        excel.append([marka,model1,link1,cihaz,tasarım,yuzey,genislik,panel,maxEmis,dB,kademe,enerjiSınıfı,aydınlatmalı,lambaSay,lambaGuc,filtreMalz,Derinlik,yukseklik,guc,renk])\n",
    "        print(f\"kod: {r.status_code}-- veri sayısı: {veri}\")\n",
    "        veri=veri+1\n",
    "        sleep(8)\n",
    "df=pd.DataFrame(excel,columns=[\"marka\",\"model\",\"link\",\"Cihaz Tipi\",\"Tasarım\",\"Yüzey Tipi\",\"Genişlik\",\"Kontrol Paneli\",\"Maximum Emiş Gücü\",\"Ses Seviyesi\",\"Kademe\",\"Enerji Sınıfı\",\"Aydınlatmalı\",\"Lamba Sayısı\",\"Lamba Gücü\",\"Filtre Malzemesi\",\"Derinlik\",\"Yükseklik\",\"Güç W\",\"RENK\"])\n",
    "df.to_excel(\"akakcem.xlsx\")\n",
    "        "
   ]
  },
  {
   "cell_type": "code",
   "execution_count": null,
   "metadata": {},
   "outputs": [],
   "source": []
  }
 ],
 "metadata": {
  "kernelspec": {
   "display_name": "Python 3",
   "language": "python",
   "name": "python3"
  },
  "language_info": {
   "codemirror_mode": {
    "name": "ipython",
    "version": 3
   },
   "file_extension": ".py",
   "mimetype": "text/x-python",
   "name": "python",
   "nbconvert_exporter": "python",
   "pygments_lexer": "ipython3",
   "version": "3.11.3"
  },
  "orig_nbformat": 4
 },
 "nbformat": 4,
 "nbformat_minor": 2
}
